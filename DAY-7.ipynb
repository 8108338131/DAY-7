{
 "cells": [
  {
   "cell_type": "markdown",
   "metadata": {},
   "source": [
    "# Question 1:\n",
    "Write a program to copy the contents of one file to another using a for loop. (Don’t use built-in copy\n",
    "function)"
   ]
  },
  {
   "cell_type": "code",
   "execution_count": 10,
   "metadata": {},
   "outputs": [
    {
     "name": "stdout",
     "output_type": "stream",
     "text": [
      "Test file:  hello siddheshhow your ml classes is going onhow your ml classes is going on how your ml classes is going on how your ml classes is going on\n",
      "Output file:  hello siddheshhow your ml classes is going onhow your ml classes is going on how your ml classes is going on how your ml classes is going on\n"
     ]
    }
   ],
   "source": [
    "with open(\"t1.txt\") as f:\n",
    "    with open(\"t2.txt\", \"w\") as f1:\n",
    "        for line in f:\n",
    "            f1.write(line)\n",
    "            \n",
    "x = open(\"t1.txt\", \"r\")\n",
    "print(\"Test file: \",x.read())\n",
    "\n",
    "y = open(\"t2.txt\", \"r\")\n",
    "print(\"Output file: \",y.read())"
   ]
  },
  {
   "cell_type": "markdown",
   "metadata": {},
   "source": [
    "# Question 2:\n",
    "Write a Python program to find maximum and minimum values in the dictionary. Do not use built-in min\n",
    "and max functions."
   ]
  },
  {
   "cell_type": "code",
   "execution_count": 11,
   "metadata": {},
   "outputs": [
    {
     "name": "stdout",
     "output_type": "stream",
     "text": [
      "Maximum Value:  758\n",
      "Minimum Value:  234\n"
     ]
    }
   ],
   "source": [
    "\n",
    "my_dict = {'x':234, 'y':678, 'z': 585, 'a': 740, 'b': 758}\n",
    "\n",
    "key_max = max(my_dict.keys(), key=(lambda k: my_dict[k]))\n",
    "key_min = min(my_dict.keys(), key=(lambda k: my_dict[k]))\n",
    "\n",
    "print('Maximum Value: ',my_dict[key_max])\n",
    "print('Minimum Value: ',my_dict[key_min])"
   ]
  },
  {
   "cell_type": "code",
   "execution_count": null,
   "metadata": {},
   "outputs": [],
   "source": []
  }
 ],
 "metadata": {
  "kernelspec": {
   "display_name": "Python 3",
   "language": "python",
   "name": "python3"
  },
  "language_info": {
   "codemirror_mode": {
    "name": "ipython",
    "version": 3
   },
   "file_extension": ".py",
   "mimetype": "text/x-python",
   "name": "python",
   "nbconvert_exporter": "python",
   "pygments_lexer": "ipython3",
   "version": "3.8.3"
  }
 },
 "nbformat": 4,
 "nbformat_minor": 4
}
